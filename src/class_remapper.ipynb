{
 "cells": [
  {
   "cell_type": "code",
   "execution_count": 1,
   "id": "13fd2aa9",
   "metadata": {},
   "outputs": [],
   "source": [
    "import numpy as np\n",
    "from PIL import Image"
   ]
  },
  {
   "cell_type": "code",
   "execution_count": 175,
   "id": "b38f2b7e",
   "metadata": {},
   "outputs": [
    {
     "data": {
      "text/plain": [
       "array([[4, 4, 4, ..., 2, 2, 2],\n",
       "       [4, 4, 4, ..., 2, 2, 2],\n",
       "       [4, 4, 4, ..., 2, 2, 2],\n",
       "       ...,\n",
       "       [1, 1, 1, ..., 1, 1, 1],\n",
       "       [1, 1, 1, ..., 1, 1, 1],\n",
       "       [1, 1, 1, ..., 1, 1, 1]], dtype=uint8)"
      ]
     },
     "execution_count": 175,
     "metadata": {},
     "output_type": "execute_result"
    }
   ],
   "source": [
    "# load the image, create numpy array, take a look at the array\n",
    "labelfile = \"CAM_BF_01_20220518130622 copy_jmbolewitz_label.jpg\"\n",
    "im = Image.open(labelfile)\n",
    "data = np.array(im)\n",
    "data\n"
   ]
  },
  {
   "cell_type": "code",
   "execution_count": 176,
   "id": "cdb8c73c",
   "metadata": {},
   "outputs": [],
   "source": [
    "# remap the values\n",
    "# classes and remapping for this project\n",
    "# 0 - water -> 0 - water (stays the same)\n",
    "# 1 - road -> 1 - road\n",
    "# 2 - building -> 2 - not-water-nor-road\n",
    "# 3 - sidewalk -> 2 - not-water-nor-road\n",
    "# 4 - vehicle -> 2 - not-water-nor-road\n",
    "# 5 - people -> 2 - not-water-nor-road\n",
    "# 6 - other -> 2 - not-water-nor-road\n",
    "\n",
    "data[(data[:,:]==3)] = [2]\n",
    "data[(data[:,:]==4)] = [2]\n",
    "data[(data[:,:]==5)] = [2]\n",
    "data[(data[:,:]==6)] = [2]\n",
    "\n",
    "# final classes should be\n",
    "# 0 - water\n",
    "# 1 - road\n",
    "# 2 - not-water-nor-road"
   ]
  },
  {
   "cell_type": "code",
   "execution_count": 177,
   "id": "413e5ec2",
   "metadata": {},
   "outputs": [
    {
     "data": {
      "text/plain": [
       "array([[2, 2, 2, ..., 2, 2, 2],\n",
       "       [2, 2, 2, ..., 2, 2, 2],\n",
       "       [2, 2, 2, ..., 2, 2, 2],\n",
       "       ...,\n",
       "       [1, 1, 1, ..., 1, 1, 1],\n",
       "       [1, 1, 1, ..., 1, 1, 1],\n",
       "       [1, 1, 1, ..., 1, 1, 1]], dtype=uint8)"
      ]
     },
     "execution_count": 177,
     "metadata": {},
     "output_type": "execute_result"
    }
   ],
   "source": [
    "data"
   ]
  },
  {
   "cell_type": "code",
   "execution_count": 178,
   "id": "dad9148e",
   "metadata": {},
   "outputs": [],
   "source": [
    "# this is a destructive save, it will overwrite the original file\n",
    "# make sure there is a copy of your original file\n",
    "im = Image.fromarray(data)\n",
    "im.save(labelfile)"
   ]
  },
  {
   "cell_type": "code",
   "execution_count": null,
   "id": "724da620",
   "metadata": {},
   "outputs": [],
   "source": []
  }
 ],
 "metadata": {
  "kernelspec": {
   "display_name": "Python 3.9 (tensorflow)",
   "language": "python",
   "name": "tensorflow"
  },
  "language_info": {
   "codemirror_mode": {
    "name": "ipython",
    "version": 3
   },
   "file_extension": ".py",
   "mimetype": "text/x-python",
   "name": "python",
   "nbconvert_exporter": "python",
   "pygments_lexer": "ipython3",
   "version": "3.9.12"
  }
 },
 "nbformat": 4,
 "nbformat_minor": 5
}
