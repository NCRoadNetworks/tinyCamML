{
 "cells": [
  {
   "cell_type": "code",
   "execution_count": 1,
   "id": "dddb83b3",
   "metadata": {},
   "outputs": [],
   "source": [
    "import os\n",
    "import csv"
   ]
  },
  {
   "cell_type": "code",
   "execution_count": 2,
   "id": "7db827b9",
   "metadata": {},
   "outputs": [],
   "source": [
    "#will get all filenames from desired folder\n",
    "\n",
    "with open(\"data/flooded.csv\", 'w') as f:\n",
    "    writer = csv.writer(f)\n",
    "    for path, dirs, files in os.walk(\"data/classification/flooded\"):\n",
    "        for filename in files:\n",
    "            writer.writerow([filename])"
   ]
  },
  {
   "cell_type": "code",
   "execution_count": 3,
   "id": "1774e5f0",
   "metadata": {},
   "outputs": [],
   "source": [
    "with open(\"data/not_flooded.csv\", 'w') as f:\n",
    "    writer = csv.writer(f)\n",
    "    for path, dirs, files in os.walk(\"data/classification/not_flooded\"):\n",
    "        for filename in files:\n",
    "            writer.writerow([filename])"
   ]
  },
  {
   "cell_type": "code",
   "execution_count": null,
   "id": "1e93a3b5",
   "metadata": {},
   "outputs": [],
   "source": []
  }
 ],
 "metadata": {
  "kernelspec": {
   "display_name": "Python 3.9 (tensorflow)",
   "language": "python",
   "name": "tensorflow"
  },
  "language_info": {
   "codemirror_mode": {
    "name": "ipython",
    "version": 3
   },
   "file_extension": ".py",
   "mimetype": "text/x-python",
   "name": "python",
   "nbconvert_exporter": "python",
   "pygments_lexer": "ipython3",
   "version": "3.9.12"
  }
 },
 "nbformat": 4,
 "nbformat_minor": 5
}
